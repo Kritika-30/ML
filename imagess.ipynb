{
  "nbformat": 4,
  "nbformat_minor": 0,
  "metadata": {
    "colab": {
      "name": "imagess.ipynb",
      "version": "0.3.2",
      "provenance": [],
      "collapsed_sections": []
    },
    "kernelspec": {
      "name": "python3",
      "display_name": "Python 3"
    }
  },
  "cells": [
    {
      "cell_type": "code",
      "metadata": {
        "id": "z1uTYTyfkNMs",
        "colab_type": "code",
        "colab": {}
      },
      "source": [
        "import cv2"
      ],
      "execution_count": 0,
      "outputs": []
    },
    {
      "cell_type": "code",
      "metadata": {
        "id": "rK6XS6P51U1c",
        "colab_type": "code",
        "colab": {}
      },
      "source": [
        "import matplotlib.pyplot as plt"
      ],
      "execution_count": 0,
      "outputs": []
    },
    {
      "cell_type": "code",
      "metadata": {
        "id": "-fltS0SjvH8G",
        "colab_type": "code",
        "colab": {}
      },
      "source": [
        "print(csv.__version__) # to check version of cv"
      ],
      "execution_count": 0,
      "outputs": []
    },
    {
      "cell_type": "code",
      "metadata": {
        "id": "bR1n53qwyRv5",
        "colab_type": "code",
        "colab": {}
      },
      "source": [
        "img=cv2.imread(\"Desktop/work/Fish.jpg\",1)  # 1 means image in same color channel --GRB or --RGB\n",
        "# 0 means black and white ---GRAY image    # -1 maintain image transparency"
      ],
      "execution_count": 0,
      "outputs": []
    },
    {
      "cell_type": "code",
      "metadata": {
        "id": "4loRPd0nyqzH",
        "colab_type": "code",
        "colab": {}
      },
      "source": [
        "img"
      ],
      "execution_count": 0,
      "outputs": []
    },
    {
      "cell_type": "code",
      "metadata": {
        "id": "PbFoL4Aoywfv",
        "colab_type": "code",
        "colab": {}
      },
      "source": [
        "img.shape    # height,width,color channel"
      ],
      "execution_count": 0,
      "outputs": []
    },
    {
      "cell_type": "code",
      "metadata": {
        "id": "U65BoVwByx40",
        "colab_type": "code",
        "colab": {}
      },
      "source": [
        "type(img)"
      ],
      "execution_count": 0,
      "outputs": []
    },
    {
      "cell_type": "code",
      "metadata": {
        "id": "uf5NWH_Pzi9O",
        "colab_type": "code",
        "colab": {}
      },
      "source": [
        "#cv2.imshow('Fish',img)   # from google.colab.patches  import cv2.imshow\n",
        "plt.imshow(img)"
      ],
      "execution_count": 0,
      "outputs": []
    },
    {
      "cell_type": "code",
      "metadata": {
        "id": "YS2hTC2L2lwO",
        "colab_type": "code",
        "colab": {}
      },
      "source": [
        "#cv2.waitKey(0)  # to wait "
      ],
      "execution_count": 0,
      "outputs": []
    },
    {
      "cell_type": "code",
      "metadata": {
        "id": "o4Fakm840RsE",
        "colab_type": "code",
        "colab": {}
      },
      "source": [
        ""
      ],
      "execution_count": 0,
      "outputs": []
    }
  ]
}